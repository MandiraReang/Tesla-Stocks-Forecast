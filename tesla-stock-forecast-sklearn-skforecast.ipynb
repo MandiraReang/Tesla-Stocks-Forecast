{
 "cells": [
  {
   "cell_type": "code",
   "execution_count": 1,
   "id": "202673cb",
   "metadata": {
    "execution": {
     "iopub.execute_input": "2023-08-17T02:28:20.457085Z",
     "iopub.status.busy": "2023-08-17T02:28:20.456205Z",
     "iopub.status.idle": "2023-08-17T02:28:33.208327Z",
     "shell.execute_reply": "2023-08-17T02:28:33.206783Z"
    },
    "papermill": {
     "duration": 12.760847,
     "end_time": "2023-08-17T02:28:33.210873",
     "exception": false,
     "start_time": "2023-08-17T02:28:20.450026",
     "status": "completed"
    },
    "tags": []
   },
   "outputs": [],
   "source": [
    "# install skforecast\n",
    "# **************************************************************************************************************\n",
    "!pip install skforecast -q"
   ]
  },
  {
   "cell_type": "markdown",
   "id": "6fb863ce",
   "metadata": {
    "papermill": {
     "duration": 0.003829,
     "end_time": "2023-08-17T02:28:33.219080",
     "exception": false,
     "start_time": "2023-08-17T02:28:33.215251",
     "status": "completed"
    },
    "tags": []
   },
   "source": [
    "# Libraries"
   ]
  },
  {
   "cell_type": "code",
   "execution_count": 2,
   "id": "158ed3f0",
   "metadata": {
    "_cell_guid": "b1076dfc-b9ad-4769-8c92-a6c4dae69d19",
    "_uuid": "8f2839f25d086af736a60e9eeb907d3b93b6e0e5",
    "execution": {
     "iopub.execute_input": "2023-08-17T02:28:33.229378Z",
     "iopub.status.busy": "2023-08-17T02:28:33.228965Z",
     "iopub.status.idle": "2023-08-17T02:28:35.351267Z",
     "shell.execute_reply": "2023-08-17T02:28:35.350212Z"
    },
    "papermill": {
     "duration": 2.130623,
     "end_time": "2023-08-17T02:28:35.353816",
     "exception": false,
     "start_time": "2023-08-17T02:28:33.223193",
     "status": "completed"
    },
    "tags": []
   },
   "outputs": [],
   "source": [
    "# standard libraries\n",
    "# **************************************************************************************************************\n",
    "import numpy as np # linear algebra\n",
    "import pandas as pd # data processing, CSV file I/O (e.g. pd.read_csv)\n",
    "import warnings, gc\n",
    "warnings.simplefilter('ignore')\n",
    "\n",
    "# visualisation\n",
    "# **************************************************************************************************************\n",
    "import matplotlib.pyplot as plt\n",
    "plt.style.use('fivethirtyeight')\n",
    "plt.rcParams['font.size'] = 10\n",
    "plt.rcParams['lines.linewidth'] = 1\n",
    "\n",
    "# sklearn\n",
    "# **************************************************************************************************************\n",
    "from sklearn.linear_model import *\n",
    "from sklearn.ensemble import *\n",
    "from sklearn.metrics import *\n",
    "from sklearn.preprocessing import *\n",
    "from sklearn.model_selection import *\n",
    "from sklearn.impute import *\n",
    "\n",
    "# skforecast\n",
    "# **************************************************************************************************************\n",
    "from skforecast.ForecasterAutoreg import ForecasterAutoreg\n",
    "from skforecast.ForecasterAutoregCustom import ForecasterAutoregCustom\n",
    "from skforecast.ForecasterAutoregDirect import ForecasterAutoregDirect\n",
    "from skforecast.model_selection import grid_search_forecaster\n",
    "from skforecast.model_selection import backtesting_forecaster\n",
    "from skforecast.utils import save_forecaster\n",
    "from skforecast.utils import load_forecaster\n"
   ]
  },
  {
   "cell_type": "markdown",
   "id": "b604632b",
   "metadata": {
    "papermill": {
     "duration": 0.003813,
     "end_time": "2023-08-17T02:28:35.361914",
     "exception": false,
     "start_time": "2023-08-17T02:28:35.358101",
     "status": "completed"
    },
    "tags": []
   },
   "source": [
    "# Data Load"
   ]
  },
  {
   "cell_type": "code",
   "execution_count": 3,
   "id": "17d1b35b",
   "metadata": {
    "execution": {
     "iopub.execute_input": "2023-08-17T02:28:35.371649Z",
     "iopub.status.busy": "2023-08-17T02:28:35.371292Z",
     "iopub.status.idle": "2023-08-17T02:28:35.688815Z",
     "shell.execute_reply": "2023-08-17T02:28:35.687737Z"
    },
    "papermill": {
     "duration": 0.32566,
     "end_time": "2023-08-17T02:28:35.691554",
     "exception": false,
     "start_time": "2023-08-17T02:28:35.365894",
     "status": "completed"
    },
    "tags": []
   },
   "outputs": [
    {
     "data": {
      "text/html": [
       "<div>\n",
       "<style scoped>\n",
       "    .dataframe tbody tr th:only-of-type {\n",
       "        vertical-align: middle;\n",
       "    }\n",
       "\n",
       "    .dataframe tbody tr th {\n",
       "        vertical-align: top;\n",
       "    }\n",
       "\n",
       "    .dataframe thead th {\n",
       "        text-align: right;\n",
       "    }\n",
       "</style>\n",
       "<table border=\"1\" class=\"dataframe\">\n",
       "  <thead>\n",
       "    <tr style=\"text-align: right;\">\n",
       "      <th></th>\n",
       "      <th>open</th>\n",
       "      <th>high</th>\n",
       "      <th>low</th>\n",
       "      <th>close</th>\n",
       "    </tr>\n",
       "    <tr>\n",
       "      <th>date</th>\n",
       "      <th></th>\n",
       "      <th></th>\n",
       "      <th></th>\n",
       "      <th></th>\n",
       "    </tr>\n",
       "  </thead>\n",
       "  <tbody>\n",
       "    <tr>\n",
       "      <th>2020-01-02</th>\n",
       "      <td>28.300</td>\n",
       "      <td>28.713</td>\n",
       "      <td>28.114</td>\n",
       "      <td>28.684</td>\n",
       "    </tr>\n",
       "    <tr>\n",
       "      <th>2020-01-03</th>\n",
       "      <td>29.367</td>\n",
       "      <td>30.267</td>\n",
       "      <td>29.128</td>\n",
       "      <td>29.534</td>\n",
       "    </tr>\n",
       "    <tr>\n",
       "      <th>2020-01-06</th>\n",
       "      <td>29.365</td>\n",
       "      <td>30.104</td>\n",
       "      <td>29.333</td>\n",
       "      <td>30.103</td>\n",
       "    </tr>\n",
       "    <tr>\n",
       "      <th>2020-01-07</th>\n",
       "      <td>30.760</td>\n",
       "      <td>31.442</td>\n",
       "      <td>30.224</td>\n",
       "      <td>31.271</td>\n",
       "    </tr>\n",
       "    <tr>\n",
       "      <th>2020-01-08</th>\n",
       "      <td>31.580</td>\n",
       "      <td>33.233</td>\n",
       "      <td>31.215</td>\n",
       "      <td>32.809</td>\n",
       "    </tr>\n",
       "  </tbody>\n",
       "</table>\n",
       "</div>"
      ],
      "text/plain": [
       "              open    high     low   close\n",
       "date                                      \n",
       "2020-01-02  28.300  28.713  28.114  28.684\n",
       "2020-01-03  29.367  30.267  29.128  29.534\n",
       "2020-01-06  29.365  30.104  29.333  30.103\n",
       "2020-01-07  30.760  31.442  30.224  31.271\n",
       "2020-01-08  31.580  33.233  31.215  32.809"
      ]
     },
     "execution_count": 3,
     "metadata": {},
     "output_type": "execute_result"
    }
   ],
   "source": [
    "# data load\n",
    "# **************************************************************************************************************\n",
    "CSV = '/kaggle/input/tsla-stock-data/tsla_split_adjusted.csv'\n",
    "df = pd.read_csv(CSV, parse_dates=['date'])\n",
    "\n",
    "\n",
    "# formating the float\n",
    "# **************************************************************************************************************\n",
    "float_cols = df.select_dtypes(np.float64).columns\n",
    "for c in float_cols:\n",
    "    df[c] = df[c].apply(lambda x: np.round(x,3))\n",
    "\n",
    "\n",
    "# data sampling\n",
    "# **************************************************************************************************************\n",
    "'''sampling the data for last n years'''\n",
    "n = 3\n",
    "end_year = df['date'].dt.year.max()\n",
    "start_year = end_year - n\n",
    "\n",
    "df = df.loc[(df['date'].dt.year >= start_year)\n",
    "                     & (df['date'].dt.year <= end_year)]\n",
    "\n",
    "\n",
    "# set index\n",
    "# **************************************************************************************************************\n",
    "df.set_index('date', inplace=True)\n",
    "\n",
    "\n",
    "# filtering columns\n",
    "# **************************************************************************************************************\n",
    "wanted = ['open', 'high', 'low' , 'close']\n",
    "df = df[wanted]\n",
    "\n",
    "\n",
    "# set frequency\n",
    "# **************************************************************************************************************\n",
    "'''Pandas fills the gaps that may exist in the time series \n",
    "   with the value of NULL. Here the frequency is set to business days'''\n",
    "df = df.asfreq('B',method='ffill')\n",
    "\n",
    "\n",
    "# view\n",
    "# **************************************************************************************************************\n",
    "df.head()"
   ]
  },
  {
   "cell_type": "markdown",
   "id": "1a532b25",
   "metadata": {
    "papermill": {
     "duration": 0.004028,
     "end_time": "2023-08-17T02:28:35.699876",
     "exception": false,
     "start_time": "2023-08-17T02:28:35.695848",
     "status": "completed"
    },
    "tags": []
   },
   "source": [
    "## Train & Test Split"
   ]
  },
  {
   "cell_type": "code",
   "execution_count": 4,
   "id": "b6418beb",
   "metadata": {
    "execution": {
     "iopub.execute_input": "2023-08-17T02:28:35.710146Z",
     "iopub.status.busy": "2023-08-17T02:28:35.709734Z",
     "iopub.status.idle": "2023-08-17T02:28:36.200219Z",
     "shell.execute_reply": "2023-08-17T02:28:36.199391Z"
    },
    "papermill": {
     "duration": 0.498331,
     "end_time": "2023-08-17T02:28:36.202393",
     "exception": false,
     "start_time": "2023-08-17T02:28:35.704062",
     "status": "completed"
    },
    "tags": []
   },
   "outputs": [
    {
     "name": "stdout",
     "output_type": "stream",
     "text": [
      "Train dates : 2020-01-02 00:00:00 --- 2022-11-08 00:00:00  (n=744)\n",
      "Test dates  : 2022-11-09 00:00:00 --- 2023-08-15 00:00:00  (n=200)\n",
      "\n"
     ]
    },
    {
     "data": {
      "image/png": "[encoded data removed]",
      "text/plain": [
       "<Figure size 1200x400 with 1 Axes>"
      ]
     },
     "metadata": {},
     "output_type": "display_data"
    }
   ],
   "source": [
    "# train & test data split\n",
    "# **************************************************************************************************************\n",
    "size = 200  # last n days\n",
    "data_train = df[:-size]\n",
    "data_test  = df[-size:]\n",
    "\n",
    "print(f\"Train dates : {data_train.index.min()} --- {data_train.index.max()}  (n={len(data_train)})\")\n",
    "print(f\"Test dates  : {data_test.index.min()} --- {data_test.index.max()}  (n={len(data_test)})\")\n",
    "print()\n",
    "\n",
    "\n",
    "# plot the training & validation data\n",
    "# **************************************************************************************************************\n",
    "\n",
    "col = 'high'\n",
    "fig, ax = plt.subplots(figsize=(12, 4))\n",
    "data_train[col].plot(ax=ax, label='train')\n",
    "data_test[col].plot(ax=ax, label='test')\n",
    "ax.legend();"
   ]
  },
  {
   "cell_type": "markdown",
   "id": "adb6846d",
   "metadata": {
    "papermill": {
     "duration": 0.005192,
     "end_time": "2023-08-17T02:28:36.213097",
     "exception": false,
     "start_time": "2023-08-17T02:28:36.207905",
     "status": "completed"
    },
    "tags": []
   },
   "source": [
    "# Recursive Autoregressive Forecasting\n",
    "\n",
    "<br>\n",
    "\n",
    "## ForecasterAutoreg\n",
    "\n",
    "<p><strong> \n",
    "    With this class, a model is created and trained from \"RandomForestRegressor\" with a time window of n lags. This means that the model uses the previous n days as predictors\n",
    "</strong></p>"
   ]
  },
  {
   "cell_type": "code",
   "execution_count": 5,
   "id": "09299a5f",
   "metadata": {
    "execution": {
     "iopub.execute_input": "2023-08-17T02:28:36.226061Z",
     "iopub.status.busy": "2023-08-17T02:28:36.225468Z",
     "iopub.status.idle": "2023-08-17T02:28:58.137663Z",
     "shell.execute_reply": "2023-08-17T02:28:58.136684Z"
    },
    "papermill": {
     "duration": 21.921226,
     "end_time": "2023-08-17T02:28:58.139956",
     "exception": false,
     "start_time": "2023-08-17T02:28:36.218730",
     "status": "completed"
    },
    "tags": []
   },
   "outputs": [
    {
     "data": {
      "text/plain": [
       "================= \n",
       "ForecasterAutoreg \n",
       "================= \n",
       "Regressor: RandomForestRegressor(criterion='absolute_error', random_state=70) \n",
       "Lags: [  1   2   3   4   5   6   7   8   9  10  11  12  13  14  15  16  17  18\n",
       "  19  20  21  22  23  24  25  26  27  28  29  30  31  32  33  34  35  36\n",
       "  37  38  39  40  41  42  43  44  45  46  47  48  49  50  51  52  53  54\n",
       "  55  56  57  58  59  60  61  62  63  64  65  66  67  68  69  70  71  72\n",
       "  73  74  75  76  77  78  79  80  81  82  83  84  85  86  87  88  89  90\n",
       "  91  92  93  94  95  96  97  98  99 100 101 102 103 104 105 106 107 108\n",
       " 109 110 111 112 113 114 115 116 117 118 119 120] \n",
       "Transformer for y: None \n",
       "Transformer for exog: None \n",
       "Window size: 120 \n",
       "Weight function included: False \n",
       "Exogenous included: False \n",
       "Type of exogenous variable: None \n",
       "Exogenous variables names: None \n",
       "Training range: [Timestamp('2020-01-02 00:00:00'), Timestamp('2022-11-08 00:00:00')] \n",
       "Training index type: DatetimeIndex \n",
       "Training index frequency: B \n",
       "Regressor parameters: {'bootstrap': True, 'ccp_alpha': 0.0, 'criterion': 'absolute_error', 'max_depth': None, 'max_features': 1.0, 'max_leaf_nodes': None, 'max_samples': None, 'min_impurity_decrease': 0.0, 'min_samples_leaf': 1, 'min_samples_split': 2, 'min_weight_fraction_leaf': 0.0, 'n_estimators': 100, 'n_jobs': None, 'oob_score': False, 'random_state': 70, 'verbose': 0, 'warm_start': False} \n",
       "fit_kwargs: {} \n",
       "Creation date: 2023-08-17 02:28:36 \n",
       "Last fit date: 2023-08-17 02:28:58 \n",
       "Skforecast version: 0.9.1 \n",
       "Python version: 3.10.12 \n",
       "Forecaster id: None "
      ]
     },
     "execution_count": 5,
     "metadata": {},
     "output_type": "execute_result"
    }
   ],
   "source": [
    "# Create and train forecasterAutoreg\n",
    "# **************************************************************************************************************\n",
    "n_days = 120\n",
    "forecaster = ForecasterAutoreg(\n",
    "                regressor = RandomForestRegressor(criterion = 'absolute_error', random_state= np.random.randint(100)),\n",
    "                lags      = n_days)\n",
    "\n",
    "forecaster.fit(y=data_train[col])\n",
    "forecaster"
   ]
  },
  {
   "cell_type": "markdown",
   "id": "510d3296",
   "metadata": {
    "papermill": {
     "duration": 0.005131,
     "end_time": "2023-08-17T02:28:58.150614",
     "exception": false,
     "start_time": "2023-08-17T02:28:58.145483",
     "status": "completed"
    },
    "tags": []
   },
   "source": [
    "## Prediction"
   ]
  },
  {
   "cell_type": "code",
   "execution_count": 6,
   "id": "068861f7",
   "metadata": {
    "execution": {
     "iopub.execute_input": "2023-08-17T02:28:58.164139Z",
     "iopub.status.busy": "2023-08-17T02:28:58.163746Z",
     "iopub.status.idle": "2023-08-17T02:29:00.255057Z",
     "shell.execute_reply": "2023-08-17T02:29:00.253994Z"
    },
    "papermill": {
     "duration": 2.100529,
     "end_time": "2023-08-17T02:29:00.257827",
     "exception": false,
     "start_time": "2023-08-17T02:28:58.157298",
     "status": "completed"
    },
    "tags": []
   },
   "outputs": [
    {
     "data": {
      "image/png": "[encoded data removed]",
      "text/plain": [
       "<Figure size 1200x400 with 1 Axes>"
      ]
     },
     "metadata": {},
     "output_type": "display_data"
    }
   ],
   "source": [
    "# future prediction\n",
    "# **************************************************************************************************************\n",
    "'''once trained, the model predicts n days in future'''\n",
    "n_future_days = 200 \n",
    "preds = forecaster.predict(steps=n_future_days)\n",
    "\n",
    "\n",
    "# plot the predicted data\n",
    "# **************************************************************************************************************\n",
    "fig, ax = plt.subplots(figsize=(12, 4))\n",
    "data_train[col].plot(ax=ax, label='train')\n",
    "data_test[col].plot(ax=ax, label='test')\n",
    "preds.plot(ax=ax, label='predictions')\n",
    "ax.legend();"
   ]
  },
  {
   "cell_type": "code",
   "execution_count": 7,
   "id": "db26cad1",
   "metadata": {
    "execution": {
     "iopub.execute_input": "2023-08-17T02:29:00.272495Z",
     "iopub.status.busy": "2023-08-17T02:29:00.271874Z",
     "iopub.status.idle": "2023-08-17T02:29:00.279148Z",
     "shell.execute_reply": "2023-08-17T02:29:00.277993Z"
    },
    "papermill": {
     "duration": 0.017177,
     "end_time": "2023-08-17T02:29:00.281351",
     "exception": false,
     "start_time": "2023-08-17T02:29:00.264174",
     "status": "completed"
    },
    "tags": []
   },
   "outputs": [
    {
     "name": "stdout",
     "output_type": "stream",
     "text": [
      "Mean Absolute Error: 39.771\n"
     ]
    }
   ],
   "source": [
    "# Test error\n",
    "# **************************************************************************************************************\n",
    "'''The error that the model makes in its predictions is quantified. \n",
    "    The metric used is the mean absolute error (mae)'''\n",
    "\n",
    "error = mean_absolute_error(\n",
    "                y_true = data_test[col],\n",
    "                y_pred = preds\n",
    "            )\n",
    "\n",
    "print(f\"Mean Absolute Error: {'{:.3f}'.format(error)}\")"
   ]
  },
  {
   "cell_type": "markdown",
   "id": "0162e0b9",
   "metadata": {
    "papermill": {
     "duration": 0.006244,
     "end_time": "2023-08-17T02:29:00.294232",
     "exception": false,
     "start_time": "2023-08-17T02:29:00.287988",
     "status": "completed"
    },
    "tags": []
   },
   "source": [
    "# Hyperparameter Tuning\n",
    "\n",
    "<p><strong> \n",
    "   Skforecast library provides the grid_search_forecaster function. It compares the results obtained with multiple combinations of hyperparameters and lags, and identify the best one\n",
    "</strong></p>"
   ]
  },
  {
   "cell_type": "code",
   "execution_count": 8,
   "id": "f95a9896",
   "metadata": {
    "execution": {
     "iopub.execute_input": "2023-08-17T02:29:00.308646Z",
     "iopub.status.busy": "2023-08-17T02:29:00.308259Z",
     "iopub.status.idle": "2023-08-17T02:36:48.932079Z",
     "shell.execute_reply": "2023-08-17T02:36:48.930991Z"
    },
    "papermill": {
     "duration": 468.640284,
     "end_time": "2023-08-17T02:36:48.940981",
     "exception": false,
     "start_time": "2023-08-17T02:29:00.300697",
     "status": "completed"
    },
    "tags": []
   },
   "outputs": [
    {
     "name": "stdout",
     "output_type": "stream",
     "text": [
      "Number of models compared: 18.\n"
     ]
    },
    {
     "data": {
      "application/vnd.jupyter.widget-view+json": {
       "model_id": "5d7c898499934476b9a302b6a219ed87",
       "version_major": 2,
       "version_minor": 0
      },
      "text/plain": [
       "lags grid:   0%|          | 0/3 [00:00<?, ?it/s]"
      ]
     },
     "metadata": {},
     "output_type": "display_data"
    },
    {
     "data": {
      "application/vnd.jupyter.widget-view+json": {
       "model_id": "680364d6cb10488e9e5579b7594432f1",
       "version_major": 2,
       "version_minor": 0
      },
      "text/plain": [
       "params grid:   0%|          | 0/6 [00:00<?, ?it/s]"
      ]
     },
     "metadata": {},
     "output_type": "display_data"
    },
    {
     "name": "stdout",
     "output_type": "stream",
     "text": [
      "`Forecaster` refitted using the best-found lags and parameters, and the whole data set: \n",
      "  Lags: [  1   2   3   4   5   6   7   8   9  10  11  12  13  14  15  16  17  18\n",
      "  19  20  21  22  23  24  25  26  27  28  29  30  31  32  33  34  35  36\n",
      "  37  38  39  40  41  42  43  44  45  46  47  48  49  50  51  52  53  54\n",
      "  55  56  57  58  59  60  61  62  63  64  65  66  67  68  69  70  71  72\n",
      "  73  74  75  76  77  78  79  80  81  82  83  84  85  86  87  88  89  90\n",
      "  91  92  93  94  95  96  97  98  99 100 101 102 103 104 105 106 107 108\n",
      " 109 110 111 112 113 114 115 116 117 118 119 120 121 122 123 124 125 126\n",
      " 127 128 129 130 131 132 133 134 135 136 137 138 139 140 141 142 143 144\n",
      " 145 146 147 148 149 150 151 152 153 154 155 156 157 158 159 160 161 162\n",
      " 163 164 165 166 167 168 169 170 171 172 173 174 175 176 177 178 179 180] \n",
      "  Parameters: {'max_depth': 3, 'n_estimators': 500}\n",
      "  Backtesting metric: 66.83500265053785\n",
      "\n"
     ]
    }
   ],
   "source": [
    "# hyperparameter grid search\n",
    "# **************************************************************************************************************\n",
    "forecaster_tune = ForecasterAutoreg(\n",
    "                regressor = RandomForestRegressor(criterion = 'absolute_error', random_state= np.random.randint(100)),\n",
    "                lags      = n_days # This value will be replaced in the grid search\n",
    "             )\n",
    "\n",
    "# Lags used as predictors\n",
    "lags_grid = [150, 180, 200]\n",
    "\n",
    "# Regressor's hyperparameters\n",
    "param_grid = {'n_estimators': [100, 500],\n",
    "              'max_depth': [3, 5, 10]}\n",
    "\n",
    "results_grid = grid_search_forecaster(\n",
    "                        forecaster         = forecaster_tune,\n",
    "                        y                  = data_train[col],\n",
    "                        param_grid         = param_grid,\n",
    "                        lags_grid          = lags_grid,\n",
    "                        steps              = n_future_days,\n",
    "                        refit              = False,\n",
    "                        metric             = 'mean_absolute_error',\n",
    "                        initial_train_size = int(len(data_train)*0.5),\n",
    "                        fixed_train_size   = False,\n",
    "                        return_best        = True,\n",
    "                        n_jobs             = 'auto',\n",
    "                        verbose            = False\n",
    "               )"
   ]
  },
  {
   "cell_type": "markdown",
   "id": "347d05ff",
   "metadata": {
    "papermill": {
     "duration": 0.006674,
     "end_time": "2023-08-17T02:36:48.954659",
     "exception": false,
     "start_time": "2023-08-17T02:36:48.947985",
     "status": "completed"
    },
    "tags": []
   },
   "source": [
    "# Final Model"
   ]
  },
  {
   "cell_type": "code",
   "execution_count": 9,
   "id": "6f257649",
   "metadata": {
    "execution": {
     "iopub.execute_input": "2023-08-17T02:36:48.970888Z",
     "iopub.status.busy": "2023-08-17T02:36:48.969778Z",
     "iopub.status.idle": "2023-08-17T02:37:07.244310Z",
     "shell.execute_reply": "2023-08-17T02:37:07.243188Z"
    },
    "papermill": {
     "duration": 18.285465,
     "end_time": "2023-08-17T02:37:07.246898",
     "exception": false,
     "start_time": "2023-08-17T02:36:48.961433",
     "status": "completed"
    },
    "tags": []
   },
   "outputs": [
    {
     "data": {
      "image/png": "[encoded data removed]",
      "text/plain": [
       "<Figure size 1200x400 with 1 Axes>"
      ]
     },
     "metadata": {},
     "output_type": "display_data"
    }
   ],
   "source": [
    "# create regressor and train the forecaster with the best hyperparameters\n",
    "# **************************************************************************************************************\n",
    "regressor_tune = RandomForestRegressor(max_depth=3, n_estimators=100, criterion = 'absolute_error', random_state= np.random.randint(100))\n",
    "forecaster_opt = ForecasterAutoreg(\n",
    "                regressor = regressor_tune,\n",
    "                lags      = 200)\n",
    "\n",
    "forecaster_opt.fit(y=data_train[col])\n",
    "\n",
    "\n",
    "# predictions with new & optimized forecaster\n",
    "# **************************************************************************************************************\n",
    "preds_opt = forecaster_opt.predict(steps=n_future_days)\n",
    "\n",
    "\n",
    "# plot the new predicted data\n",
    "# **************************************************************************************************************\n",
    "fig, ax = plt.subplots(figsize=(12, 4))\n",
    "data_train[col].plot(ax=ax, label='train')\n",
    "data_test[col].plot(ax=ax, label='test')\n",
    "preds_opt.plot(ax=ax, label='predictions')\n",
    "ax.legend();"
   ]
  },
  {
   "cell_type": "markdown",
   "id": "2b867ddf",
   "metadata": {
    "papermill": {
     "duration": 0.007453,
     "end_time": "2023-08-17T02:37:07.262283",
     "exception": false,
     "start_time": "2023-08-17T02:37:07.254830",
     "status": "completed"
    },
    "tags": []
   },
   "source": [
    "<p><strong>\n",
    "    It looks like the hyperparameter tuning hasn't worked. Well, we can always go back to the original model\n",
    "</strong></p>"
   ]
  }
 ],
 "metadata": {
  "kernelspec": {
   "display_name": "Python 3",
   "language": "python",
   "name": "python3"
  },
  "language_info": {
   "codemirror_mode": {
    "name": "ipython",
    "version": 3
   },
   "file_extension": ".py",
   "mimetype": "text/x-python",
   "name": "python",
   "nbconvert_exporter": "python",
   "pygments_lexer": "ipython3",
   "version": "3.10.12"
  },
  "papermill": {
   "default_parameters": {},
   "duration": 536.918444,
   "end_time": "2023-08-17T02:37:08.294306",
   "environment_variables": {},
   "exception": null,
   "input_path": "__notebook__.ipynb",
   "output_path": "__notebook__.ipynb",
   "parameters": {},
   "start_time": "2023-08-17T02:28:11.375862",
   "version": "2.4.0"
  },
  "widgets": {
   "application/vnd.jupyter.widget-state+json": {
    "state": {
     "04c46c97f1d140e5aca6642b1bd003de": {
      "model_module": "@jupyter-widgets/base",
      "model_module_version": "1.2.0",
      "model_name": "LayoutModel",
      "state": {
       "_model_module": "@jupyter-widgets/base",
       "_model_module_version": "1.2.0",
       "_model_name": "LayoutModel",
       "_view_count": null,
       "_view_module": "@jupyter-widgets/base",
       "_view_module_version": "1.2.0",
       "_view_name": "LayoutView",
       "align_content": null,
       "align_items": null,
       "align_self": null,
       "border": null,
       "bottom": null,
       "display": null,
       "flex": null,
       "flex_flow": null,
       "grid_area": null,
       "grid_auto_columns": null,
       "grid_auto_flow": null,
       "grid_auto_rows": null,
       "grid_column": null,
       "grid_gap": null,
       "grid_row": null,
       "grid_template_areas": null,
       "grid_template_columns": null,
       "grid_template_rows": null,
       "height": null,
       "justify_content": null,
       "justify_items": null,
       "left": null,
       "margin": null,
       "max_height": null,
       "max_width": null,
       "min_height": null,
       "min_width": null,
       "object_fit": null,
       "object_position": null,
       "order": null,
       "overflow": null,
       "overflow_x": null,
       "overflow_y": null,
       "padding": null,
       "right": null,
       "top": null,
       "visibility": null,
       "width": null
      }
     },
     "111ea021a5ef486190f225a56ae68bab": {
      "model_module": "@jupyter-widgets/controls",
      "model_module_version": "1.5.0",
      "model_name": "FloatProgressModel",
      "state": {
       "_dom_classes": [],
       "_model_module": "@jupyter-widgets/controls",
       "_model_module_version": "1.5.0",
       "_model_name": "FloatProgressModel",
       "_view_count": null,
       "_view_module": "@jupyter-widgets/controls",
       "_view_module_version": "1.5.0",
       "_view_name": "ProgressView",
       "bar_style": "",
       "description": "",
       "description_tooltip": null,
       "layout": "IPY_MODEL_9ec080b599ed4a42a50bba534ee87c3d",
       "max": 6.0,
       "min": 0.0,
       "orientation": "horizontal",
       "style": "IPY_MODEL_9a973750841442068174a0db39932e6c",
       "value": 6.0
      }
     },
     "228e02210ead49e9b7d474412ff9f417": {
      "model_module": "@jupyter-widgets/controls",
      "model_module_version": "1.5.0",
      "model_name": "HTMLModel",
      "state": {
       "_dom_classes": [],
       "_model_module": "@jupyter-widgets/controls",
       "_model_module_version": "1.5.0",
       "_model_name": "HTMLModel",
       "_view_count": null,
       "_view_module": "@jupyter-widgets/controls",
       "_view_module_version": "1.5.0",
       "_view_name": "HTMLView",
       "description": "",
       "description_tooltip": null,
       "layout": "IPY_MODEL_3966fcc58f684fd6b8c6fc0a23e449a2",
       "placeholder": "​",
       "style": "IPY_MODEL_874429c396bb4758bf6081f8c6dc2b0b",
       "value": " 6/6 [02:11&lt;00:00, 26.47s/it]"
      }
     },
     "28de50d8f71d4bda9e0457fd5578534b": {
      "model_module": "@jupyter-widgets/controls",
      "model_module_version": "1.5.0",
      "model_name": "ProgressStyleModel",
      "state": {
       "_model_module": "@jupyter-widgets/controls",
       "_model_module_version": "1.5.0",
       "_model_name": "ProgressStyleModel",
       "_view_count": null,
       "_view_module": "@jupyter-widgets/base",
       "_view_module_version": "1.2.0",
       "_view_name": "StyleView",
       "bar_color": null,
       "description_width": ""
      }
     },
     "3422d88eb9284978b12e2e07e062cad3": {
      "model_module": "@jupyter-widgets/base",
      "model_module_version": "1.2.0",
      "model_name": "LayoutModel",
      "state": {
       "_model_module": "@jupyter-widgets/base",
       "_model_module_version": "1.2.0",
       "_model_name": "LayoutModel",
       "_view_count": null,
       "_view_module": "@jupyter-widgets/base",
       "_view_module_version": "1.2.0",
       "_view_name": "LayoutView",
       "align_content": null,
       "align_items": null,
       "align_self": null,
       "border": null,
       "bottom": null,
       "display": null,
       "flex": null,
       "flex_flow": null,
       "grid_area": null,
       "grid_auto_columns": null,
       "grid_auto_flow": null,
       "grid_auto_rows": null,
       "grid_column": null,
       "grid_gap": null,
       "grid_row": null,
       "grid_template_areas": null,
       "grid_template_columns": null,
       "grid_template_rows": null,
       "height": null,
       "justify_content": null,
       "justify_items": null,
       "left": null,
       "margin": null,
       "max_height": null,
       "max_width": null,
       "min_height": null,
       "min_width": null,
       "object_fit": null,
       "object_position": null,
       "order": null,
       "overflow": null,
       "overflow_x": null,
       "overflow_y": null,
       "padding": null,
       "right": null,
       "top": null,
       "visibility": "hidden",
       "width": null
      }
     },
     "3966fcc58f684fd6b8c6fc0a23e449a2": {
      "model_module": "@jupyter-widgets/base",
      "model_module_version": "1.2.0",
      "model_name": "LayoutModel",
      "state": {
       "_model_module": "@jupyter-widgets/base",
       "_model_module_version": "1.2.0",
       "_model_name": "LayoutModel",
       "_view_count": null,
       "_view_module": "@jupyter-widgets/base",
       "_view_module_version": "1.2.0",
       "_view_name": "LayoutView",
       "align_content": null,
       "align_items": null,
       "align_self": null,
       "border": null,
       "bottom": null,
       "display": null,
       "flex": null,
       "flex_flow": null,
       "grid_area": null,
       "grid_auto_columns": null,
       "grid_auto_flow": null,
       "grid_auto_rows": null,
       "grid_column": null,
       "grid_gap": null,
       "grid_row": null,
       "grid_template_areas": null,
       "grid_template_columns": null,
       "grid_template_rows": null,
       "height": null,
       "justify_content": null,
       "justify_items": null,
       "left": null,
       "margin": null,
       "max_height": null,
       "max_width": null,
       "min_height": null,
       "min_width": null,
       "object_fit": null,
       "object_position": null,
       "order": null,
       "overflow": null,
       "overflow_x": null,
       "overflow_y": null,
       "padding": null,
       "right": null,
       "top": null,
       "visibility": null,
       "width": null
      }
     },
     "483165a5244347fbbfedc1eba4c9b2a4": {
      "model_module": "@jupyter-widgets/controls",
      "model_module_version": "1.5.0",
      "model_name": "DescriptionStyleModel",
      "state": {
       "_model_module": "@jupyter-widgets/controls",
       "_model_module_version": "1.5.0",
       "_model_name": "DescriptionStyleModel",
       "_view_count": null,
       "_view_module": "@jupyter-widgets/base",
       "_view_module_version": "1.2.0",
       "_view_name": "StyleView",
       "description_width": ""
      }
     },
     "5ab7b8f03ff04adeabba12c99b4dc89d": {
      "model_module": "@jupyter-widgets/base",
      "model_module_version": "1.2.0",
      "model_name": "LayoutModel",
      "state": {
       "_model_module": "@jupyter-widgets/base",
       "_model_module_version": "1.2.0",
       "_model_name": "LayoutModel",
       "_view_count": null,
       "_view_module": "@jupyter-widgets/base",
       "_view_module_version": "1.2.0",
       "_view_name": "LayoutView",
       "align_content": null,
       "align_items": null,
       "align_self": null,
       "border": null,
       "bottom": null,
       "display": null,
       "flex": null,
       "flex_flow": null,
       "grid_area": null,
       "grid_auto_columns": null,
       "grid_auto_flow": null,
       "grid_auto_rows": null,
       "grid_column": null,
       "grid_gap": null,
       "grid_row": null,
       "grid_template_areas": null,
       "grid_template_columns": null,
       "grid_template_rows": null,
       "height": null,
       "justify_content": null,
       "justify_items": null,
       "left": null,
       "margin": null,
       "max_height": null,
       "max_width": null,
       "min_height": null,
       "min_width": null,
       "object_fit": null,
       "object_position": null,
       "order": null,
       "overflow": null,
       "overflow_x": null,
       "overflow_y": null,
       "padding": null,
       "right": null,
       "top": null,
       "visibility": null,
       "width": null
      }
     },
     "5d7c898499934476b9a302b6a219ed87": {
      "model_module": "@jupyter-widgets/controls",
      "model_module_version": "1.5.0",
      "model_name": "HBoxModel",
      "state": {
       "_dom_classes": [],
       "_model_module": "@jupyter-widgets/controls",
       "_model_module_version": "1.5.0",
       "_model_name": "HBoxModel",
       "_view_count": null,
       "_view_module": "@jupyter-widgets/controls",
       "_view_module_version": "1.5.0",
       "_view_name": "HBoxView",
       "box_style": "",
       "children": [
        "IPY_MODEL_82c09710e39b4a378e6a077fd97c6699",
        "IPY_MODEL_8ad4aa42bcd44918a84a5085cfe67de2",
        "IPY_MODEL_b725993e9ecb43b7aaf80111fa5249b1"
       ],
       "layout": "IPY_MODEL_940188012b8c4dfd80b51b7545aee590"
      }
     },
     "655a021aa20b42ff969c269ec271aa32": {
      "model_module": "@jupyter-widgets/base",
      "model_module_version": "1.2.0",
      "model_name": "LayoutModel",
      "state": {
       "_model_module": "@jupyter-widgets/base",
       "_model_module_version": "1.2.0",
       "_model_name": "LayoutModel",
       "_view_count": null,
       "_view_module": "@jupyter-widgets/base",
       "_view_module_version": "1.2.0",
       "_view_name": "LayoutView",
       "align_content": null,
       "align_items": null,
       "align_self": null,
       "border": null,
       "bottom": null,
       "display": null,
       "flex": null,
       "flex_flow": null,
       "grid_area": null,
       "grid_auto_columns": null,
       "grid_auto_flow": null,
       "grid_auto_rows": null,
       "grid_column": null,
       "grid_gap": null,
       "grid_row": null,
       "grid_template_areas": null,
       "grid_template_columns": null,
       "grid_template_rows": null,
       "height": null,
       "justify_content": null,
       "justify_items": null,
       "left": null,
       "margin": null,
       "max_height": null,
       "max_width": null,
       "min_height": null,
       "min_width": null,
       "object_fit": null,
       "object_position": null,
       "order": null,
       "overflow": null,
       "overflow_x": null,
       "overflow_y": null,
       "padding": null,
       "right": null,
       "top": null,
       "visibility": null,
       "width": null
      }
     },
     "680364d6cb10488e9e5579b7594432f1": {
      "model_module": "@jupyter-widgets/controls",
      "model_module_version": "1.5.0",
      "model_name": "HBoxModel",
      "state": {
       "_dom_classes": [],
       "_model_module": "@jupyter-widgets/controls",
       "_model_module_version": "1.5.0",
       "_model_name": "HBoxModel",
       "_view_count": null,
       "_view_module": "@jupyter-widgets/controls",
       "_view_module_version": "1.5.0",
       "_view_name": "HBoxView",
       "box_style": "",
       "children": [
        "IPY_MODEL_69d51f5629cb48ab95daa89bdd2e6514",
        "IPY_MODEL_111ea021a5ef486190f225a56ae68bab",
        "IPY_MODEL_228e02210ead49e9b7d474412ff9f417"
       ],
       "layout": "IPY_MODEL_3422d88eb9284978b12e2e07e062cad3"
      }
     },
     "69d51f5629cb48ab95daa89bdd2e6514": {
      "model_module": "@jupyter-widgets/controls",
      "model_module_version": "1.5.0",
      "model_name": "HTMLModel",
      "state": {
       "_dom_classes": [],
       "_model_module": "@jupyter-widgets/controls",
       "_model_module_version": "1.5.0",
       "_model_name": "HTMLModel",
       "_view_count": null,
       "_view_module": "@jupyter-widgets/controls",
       "_view_module_version": "1.5.0",
       "_view_name": "HTMLView",
       "description": "",
       "description_tooltip": null,
       "layout": "IPY_MODEL_5ab7b8f03ff04adeabba12c99b4dc89d",
       "placeholder": "​",
       "style": "IPY_MODEL_e7e1fd6914dd4b6b915d081f69a0118a",
       "value": "params grid: 100%"
      }
     },
     "82c09710e39b4a378e6a077fd97c6699": {
      "model_module": "@jupyter-widgets/controls",
      "model_module_version": "1.5.0",
      "model_name": "HTMLModel",
      "state": {
       "_dom_classes": [],
       "_model_module": "@jupyter-widgets/controls",
       "_model_module_version": "1.5.0",
       "_model_name": "HTMLModel",
       "_view_count": null,
       "_view_module": "@jupyter-widgets/controls",
       "_view_module_version": "1.5.0",
       "_view_name": "HTMLView",
       "description": "",
       "description_tooltip": null,
       "layout": "IPY_MODEL_04c46c97f1d140e5aca6642b1bd003de",
       "placeholder": "​",
       "style": "IPY_MODEL_483165a5244347fbbfedc1eba4c9b2a4",
       "value": "lags grid: 100%"
      }
     },
     "874429c396bb4758bf6081f8c6dc2b0b": {
      "model_module": "@jupyter-widgets/controls",
      "model_module_version": "1.5.0",
      "model_name": "DescriptionStyleModel",
      "state": {
       "_model_module": "@jupyter-widgets/controls",
       "_model_module_version": "1.5.0",
       "_model_name": "DescriptionStyleModel",
       "_view_count": null,
       "_view_module": "@jupyter-widgets/base",
       "_view_module_version": "1.2.0",
       "_view_name": "StyleView",
       "description_width": ""
      }
     },
     "8ad4aa42bcd44918a84a5085cfe67de2": {
      "model_module": "@jupyter-widgets/controls",
      "model_module_version": "1.5.0",
      "model_name": "FloatProgressModel",
      "state": {
       "_dom_classes": [],
       "_model_module": "@jupyter-widgets/controls",
       "_model_module_version": "1.5.0",
       "_model_name": "FloatProgressModel",
       "_view_count": null,
       "_view_module": "@jupyter-widgets/controls",
       "_view_module_version": "1.5.0",
       "_view_name": "ProgressView",
       "bar_style": "success",
       "description": "",
       "description_tooltip": null,
       "layout": "IPY_MODEL_c8a55aed2385491cb5a53b8c976db9bc",
       "max": 3.0,
       "min": 0.0,
       "orientation": "horizontal",
       "style": "IPY_MODEL_28de50d8f71d4bda9e0457fd5578534b",
       "value": 3.0
      }
     },
     "940188012b8c4dfd80b51b7545aee590": {
      "model_module": "@jupyter-widgets/base",
      "model_module_version": "1.2.0",
      "model_name": "LayoutModel",
      "state": {
       "_model_module": "@jupyter-widgets/base",
       "_model_module_version": "1.2.0",
       "_model_name": "LayoutModel",
       "_view_count": null,
       "_view_module": "@jupyter-widgets/base",
       "_view_module_version": "1.2.0",
       "_view_name": "LayoutView",
       "align_content": null,
       "align_items": null,
       "align_self": null,
       "border": null,
       "bottom": null,
       "display": null,
       "flex": null,
       "flex_flow": null,
       "grid_area": null,
       "grid_auto_columns": null,
       "grid_auto_flow": null,
       "grid_auto_rows": null,
       "grid_column": null,
       "grid_gap": null,
       "grid_row": null,
       "grid_template_areas": null,
       "grid_template_columns": null,
       "grid_template_rows": null,
       "height": null,
       "justify_content": null,
       "justify_items": null,
       "left": null,
       "margin": null,
       "max_height": null,
       "max_width": null,
       "min_height": null,
       "min_width": null,
       "object_fit": null,
       "object_position": null,
       "order": null,
       "overflow": null,
       "overflow_x": null,
       "overflow_y": null,
       "padding": null,
       "right": null,
       "top": null,
       "visibility": null,
       "width": null
      }
     },
     "9a973750841442068174a0db39932e6c": {
      "model_module": "@jupyter-widgets/controls",
      "model_module_version": "1.5.0",
      "model_name": "ProgressStyleModel",
      "state": {
       "_model_module": "@jupyter-widgets/controls",
       "_model_module_version": "1.5.0",
       "_model_name": "ProgressStyleModel",
       "_view_count": null,
       "_view_module": "@jupyter-widgets/base",
       "_view_module_version": "1.2.0",
       "_view_name": "StyleView",
       "bar_color": null,
       "description_width": ""
      }
     },
     "9ec080b599ed4a42a50bba534ee87c3d": {
      "model_module": "@jupyter-widgets/base",
      "model_module_version": "1.2.0",
      "model_name": "LayoutModel",
      "state": {
       "_model_module": "@jupyter-widgets/base",
       "_model_module_version": "1.2.0",
       "_model_name": "LayoutModel",
       "_view_count": null,
       "_view_module": "@jupyter-widgets/base",
       "_view_module_version": "1.2.0",
       "_view_name": "LayoutView",
       "align_content": null,
       "align_items": null,
       "align_self": null,
       "border": null,
       "bottom": null,
       "display": null,
       "flex": null,
       "flex_flow": null,
       "grid_area": null,
       "grid_auto_columns": null,
       "grid_auto_flow": null,
       "grid_auto_rows": null,
       "grid_column": null,
       "grid_gap": null,
       "grid_row": null,
       "grid_template_areas": null,
       "grid_template_columns": null,
       "grid_template_rows": null,
       "height": null,
       "justify_content": null,
       "justify_items": null,
       "left": null,
       "margin": null,
       "max_height": null,
       "max_width": null,
       "min_height": null,
       "min_width": null,
       "object_fit": null,
       "object_position": null,
       "order": null,
       "overflow": null,
       "overflow_x": null,
       "overflow_y": null,
       "padding": null,
       "right": null,
       "top": null,
       "visibility": null,
       "width": null
      }
     },
     "b725993e9ecb43b7aaf80111fa5249b1": {
      "model_module": "@jupyter-widgets/controls",
      "model_module_version": "1.5.0",
      "model_name": "HTMLModel",
      "state": {
       "_dom_classes": [],
       "_model_module": "@jupyter-widgets/controls",
       "_model_module_version": "1.5.0",
       "_model_name": "HTMLModel",
       "_view_count": null,
       "_view_module": "@jupyter-widgets/controls",
       "_view_module_version": "1.5.0",
       "_view_name": "HTMLView",
       "description": "",
       "description_tooltip": null,
       "layout": "IPY_MODEL_655a021aa20b42ff969c269ec271aa32",
       "placeholder": "​",
       "style": "IPY_MODEL_efec9b1de4544e17a742344a799d185d",
       "value": " 3/3 [06:31&lt;00:00, 130.10s/it]"
      }
     },
     "c8a55aed2385491cb5a53b8c976db9bc": {
      "model_module": "@jupyter-widgets/base",
      "model_module_version": "1.2.0",
      "model_name": "LayoutModel",
      "state": {
       "_model_module": "@jupyter-widgets/base",
       "_model_module_version": "1.2.0",
       "_model_name": "LayoutModel",
       "_view_count": null,
       "_view_module": "@jupyter-widgets/base",
       "_view_module_version": "1.2.0",
       "_view_name": "LayoutView",
       "align_content": null,
       "align_items": null,
       "align_self": null,
       "border": null,
       "bottom": null,
       "display": null,
       "flex": null,
       "flex_flow": null,
       "grid_area": null,
       "grid_auto_columns": null,
       "grid_auto_flow": null,
       "grid_auto_rows": null,
       "grid_column": null,
       "grid_gap": null,
       "grid_row": null,
       "grid_template_areas": null,
       "grid_template_columns": null,
       "grid_template_rows": null,
       "height": null,
       "justify_content": null,
       "justify_items": null,
       "left": null,
       "margin": null,
       "max_height": null,
       "max_width": null,
       "min_height": null,
       "min_width": null,
       "object_fit": null,
       "object_position": null,
       "order": null,
       "overflow": null,
       "overflow_x": null,
       "overflow_y": null,
       "padding": null,
       "right": null,
       "top": null,
       "visibility": null,
       "width": null
      }
     },
     "e7e1fd6914dd4b6b915d081f69a0118a": {
      "model_module": "@jupyter-widgets/controls",
      "model_module_version": "1.5.0",
      "model_name": "DescriptionStyleModel",
      "state": {
       "_model_module": "@jupyter-widgets/controls",
       "_model_module_version": "1.5.0",
       "_model_name": "DescriptionStyleModel",
       "_view_count": null,
       "_view_module": "@jupyter-widgets/base",
       "_view_module_version": "1.2.0",
       "_view_name": "StyleView",
       "description_width": ""
      }
     },
     "efec9b1de4544e17a742344a799d185d": {
      "model_module": "@jupyter-widgets/controls",
      "model_module_version": "1.5.0",
      "model_name": "DescriptionStyleModel",
      "state": {
       "_model_module": "@jupyter-widgets/controls",
       "_model_module_version": "1.5.0",
       "_model_name": "DescriptionStyleModel",
       "_view_count": null,
       "_view_module": "@jupyter-widgets/base",
       "_view_module_version": "1.2.0",
       "_view_name": "StyleView",
       "description_width": ""
      }
     }
    },
    "version_major": 2,
    "version_minor": 0
   }
  }
 },
 "nbformat": 4,
 "nbformat_minor": 5
}
